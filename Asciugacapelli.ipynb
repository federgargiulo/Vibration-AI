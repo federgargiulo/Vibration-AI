{
  "nbformat": 4,
  "nbformat_minor": 0,
  "metadata": {
    "colab": {
      "provenance": [],
      "authorship_tag": "ABX9TyNqZ/kKMKqZuEqTRL/vQVt9",
      "include_colab_link": true
    },
    "kernelspec": {
      "name": "python3",
      "display_name": "Python 3"
    },
    "language_info": {
      "name": "python"
    }
  },
  "cells": [
    {
      "cell_type": "markdown",
      "metadata": {
        "id": "view-in-github",
        "colab_type": "text"
      },
      "source": [
        "<a href=\"https://colab.research.google.com/github/federgargiulo/Vibration-AI/blob/main/Asciugacapelli.ipynb\" target=\"_parent\"><img src=\"https://colab.research.google.com/assets/colab-badge.svg\" alt=\"Open In Colab\"/></a>"
      ]
    },
    {
      "cell_type": "code",
      "source": [
        "#Importo le librerie \n",
        "\n",
        "import pandas as pd\n",
        "import numpy as np\n",
        "import tensorflow as tf\n",
        "from tensorflow import keras\n",
        "from keras.layers import Dense\n",
        "from keras.models import Sequential, load_model\n",
        "from keras.wrappers.scikit_learn import KerasClassifier\n",
        "from keras.utils import to_categorical, normalize, plot_model\n",
        "from sklearn.model_selection import GridSearchCV\n",
        "from sklearn.metrics import accuracy_score\n",
        "from sklearn.model_selection import train_test_split\n",
        "from keras.optimizers import SGD\n",
        "import scikeras\n",
        "from scikeras.wrappers import KerasClassifier"
      ],
      "metadata": {
        "id": "ewOhfehyOiN1",
        "collapsed": true
      },
      "execution_count": 1,
      "outputs": []
    },
    {
      "cell_type": "code",
      "source": [
        "\n",
        "!pip install scikeras\n",
        "!pip install q keras==2.10.0"
      ],
      "metadata": {
        "id": "0PbDlVLSqBeG"
      },
      "execution_count": null,
      "outputs": []
    },
    {
      "cell_type": "code",
      "source": [
        "#Importo il dataset e definisco il numero di input e di classi di output\n",
        "\n",
        "AC = pd.read_excel('/content/AscVel.xlsx')\n"
      ],
      "metadata": {
        "id": "ZG4pewDoOsmP"
      },
      "execution_count": 2,
      "outputs": []
    },
    {
      "cell_type": "code",
      "source": [
        "#Splitto il dataset (Opzionale)\n",
        "#X_train,X_test,Y_train,Y_test = train_test_split(X_train,Y_train,test_size=0.2)\n"
      ],
      "metadata": {
        "id": "LVczlToHPSBv"
      },
      "execution_count": 3,
      "outputs": []
    },
    {
      "cell_type": "code",
      "source": [
        "#Preparo il dataset per addestrare la rete\n",
        "\n",
        "X_train = AC.loc[:,'Ax':'fz']\n",
        "Y_train = AC.loc[:,'Labels']\n",
        "Y_train = to_categorical(Y_train)"
      ],
      "metadata": {
        "id": "FLhHpZLpzday"
      },
      "execution_count": 4,
      "outputs": []
    },
    {
      "cell_type": "code",
      "source": [
        "#Addestro il modello\n",
        "\n",
        "model = Sequential()\n",
        "model.add(Dense(25,input_dim = 6,activation = 'relu'))\n",
        "model.add(Dense(25,activation = 'relu'))\n",
        "model.add(Dense(3,activation = 'softmax'))\n",
        "model.compile(loss='binary_crossentropy',optimizer='rmsprop',metrics=['accuracy'])\n",
        "model.fit(X_train,Y_train,epochs = 100,batch_size = 5,verbose = 1)\n"
      ],
      "metadata": {
        "id": "9Y2AcdLjPXE9"
      },
      "execution_count": null,
      "outputs": []
    },
    {
      "cell_type": "code",
      "source": [
        "#prediction = model.predict(X_test)\n",
        "#print(prediction[:].round())\n",
        "#print(Y_test)\n",
        "\n",
        "#Valuto l'accuracy del modello e ne stampo il plot\n",
        "model.evaluate(X_train,Y_train)\n",
        "model.summary()\n",
        "plot_model(model, to_file='model_plot.png', show_shapes=True, show_layer_names=True)"
      ],
      "metadata": {
        "id": "wwlD1w26_aFc"
      },
      "execution_count": null,
      "outputs": []
    },
    {
      "cell_type": "code",
      "source": [
        "#Salvo il modello e lo converto(salvo sia in .h5 che in tflite)\n",
        "\n",
        "model.save('modello_asc' + '.h5')\n",
        "converter = tf.lite.TFLiteConverter.from_keras_model(model)\n",
        "converter.optimization = [tf.lite.Optimize.OPTIMIZE_FOR_SIZE]\n",
        "tflite_model = converter.convert()\n",
        "open('modello_asc' + '.tflite','wb').write(tflite_model)"
      ],
      "metadata": {
        "id": "yu4BEWs1PeZ2"
      },
      "execution_count": null,
      "outputs": []
    },
    {
      "cell_type": "code",
      "source": [
        "#Definisco il modello da usare per la grid_search\n",
        "\n",
        "def define_model(neurons = 10,learning_rate = 0.001, momentum = 0.3):\n",
        "    my_model = Sequential()\n",
        "    my_model.add(Dense(neurons,activation = 'relu',kernel_initializer = 'uniform',input_dim = 6))\n",
        "    my_model.add(Dense(neurons,activation = 'relu',kernel_initializer = 'uniform'))\n",
        "    my_model.add(Dense(3,activation = 'softmax',kernel_initializer = 'uniform'))\n",
        "    optimizer = SGD(lr = learning_rate, momentum = momentum)\n",
        "    my_model.compile(loss = 'categorical_crossentropy',optimizer = optimizer,metrics = ['accuracy'])\n",
        "    return my_model     "
      ],
      "metadata": {
        "id": "UoUWvwnCwks4"
      },
      "execution_count": 6,
      "outputs": []
    },
    {
      "cell_type": "code",
      "source": [
        "#Tuning degli iperparametri\n",
        "\n",
        "batch_size = 16\n",
        "epochs = 100\n",
        "my_model = KerasClassifier(neurons = 1,learning_rate = 0,momentum = 0,build_fn = define_model,epochs = epochs, batch_size = batch_size, verbose = 1)\n",
        "learning_rate = [0.001,0.01,0.1]\n",
        "momentum = [0.3,0.7,0.9]\n",
        "neurons = [10,11,12,13,14,15]\n",
        "param_grid = dict(learning_rate=learning_rate,momentum=momentum,neurons = neurons)\n",
        "grid = GridSearchCV(estimator=my_model, param_grid = param_grid, n_jobs=16, cv =3)\n",
        "grid.fit(X_train, Y_train) \n"
      ],
      "metadata": {
        "id": "gKOF5PPbz4H_"
      },
      "execution_count": null,
      "outputs": []
    }
  ]
}